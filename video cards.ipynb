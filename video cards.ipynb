{
 "cells": [
  {
   "cell_type": "code",
   "execution_count": 25,
   "id": "01f63494",
   "metadata": {},
   "outputs": [],
   "source": [
    "import pandas as pd\n",
    "import numpy as np\n",
    "import matplotlib.pyplot as plt\n",
    "\n",
    "%matplotlib inline\n",
    "\n",
    "from urllib.request import urlopen\n",
    "from bs4 import BeautifulSoup\n",
    "import re"
   ]
  },
  {
   "cell_type": "code",
   "execution_count": 26,
   "id": "e284f60d",
   "metadata": {},
   "outputs": [],
   "source": [
    "url = \"https://www.newegg.com/Video-Cards-Video-Devices/Category/ID-38\"\n",
    "html = urlopen(url)\n",
    "\n",
    "soup = BeautifulSoup(html)"
   ]
  },
  {
   "cell_type": "code",
   "execution_count": 56,
   "id": "f587e392",
   "metadata": {},
   "outputs": [],
   "source": [
    "containers = soup.findAll(\"div\", {\"class\": \"item-container\"})"
   ]
  },
  {
   "cell_type": "code",
   "execution_count": 57,
   "id": "f0fcb891",
   "metadata": {},
   "outputs": [
    {
     "data": {
      "text/plain": [
       "39"
      ]
     },
     "execution_count": 57,
     "metadata": {},
     "output_type": "execute_result"
    }
   ],
   "source": [
    "filename = \"videocards.csv\"\n",
    "f = open(filename, \"w\")\n",
    "\n",
    "headers = \"brand, product_name, rating, shipping \\n\"\n",
    "\n",
    "f.write(headers)"
   ]
  },
  {
   "cell_type": "code",
   "execution_count": 58,
   "id": "79de7be0",
   "metadata": {},
   "outputs": [
    {
     "name": "stdout",
     "output_type": "stream",
     "text": [
      "rating:  5\n",
      "rating:  4.8\n",
      "rating:  4.8\n",
      "rating:  \n",
      "rating:  4\n",
      "rating:  5\n",
      "rating:  4.5\n",
      "rating:  4.6\n",
      "rating:  4.6\n",
      "rating:  4.3\n",
      "rating:  3.7\n",
      "rating:  4.5\n"
     ]
    }
   ],
   "source": [
    "for container in containers:\n",
    "    brand = container.div.div.a.img['title']\n",
    "    title_container = container.findAll(\"a\", {\"class\": \"item-title\"})\n",
    "    product_name = title_container[0].text\n",
    "    shipping_container = container.findAll(\"li\", {\"class\": \"price-ship\"})\n",
    "    shipping = shipping_container[0].text.strip()\n",
    "    rating_container = container.findAll(\"a\", {\"class\": \"item-rating\"})\n",
    "    \n",
    "    if rating_container:\n",
    "        rating = rating_container[0]['title']\n",
    "        rating = rating[9:]\n",
    "    else:\n",
    "        rating = \"\"\n",
    "    \n",
    "    print(\"rating: \", rating)\n",
    "    \n",
    "    f.write(brand + \",\" + product_name.replace(\",\", \"|\") + \",\" + rating  + \",\" + shipping + \"\\n\")\n",
    "\n",
    "#     print(\"brand: \", brand)\n",
    "   \n",
    "#     print(\"product_name:\", product_name)\n",
    "#     print(\"shipping\", shipping)"
   ]
  },
  {
   "cell_type": "code",
   "execution_count": 59,
   "id": "cae2e3a6",
   "metadata": {},
   "outputs": [],
   "source": [
    "f.close()"
   ]
  },
  {
   "cell_type": "code",
   "execution_count": null,
   "id": "40e3704b",
   "metadata": {},
   "outputs": [],
   "source": []
  }
 ],
 "metadata": {
  "kernelspec": {
   "display_name": "Python 3 (ipykernel)",
   "language": "python",
   "name": "python3"
  },
  "language_info": {
   "codemirror_mode": {
    "name": "ipython",
    "version": 3
   },
   "file_extension": ".py",
   "mimetype": "text/x-python",
   "name": "python",
   "nbconvert_exporter": "python",
   "pygments_lexer": "ipython3",
   "version": "3.9.7"
  }
 },
 "nbformat": 4,
 "nbformat_minor": 5
}
